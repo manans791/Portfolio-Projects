{
 "cells": [
  {
   "cell_type": "markdown",
   "id": "3636b4a3",
   "metadata": {},
   "source": [
    "# Data Cleaning on Udemy Dataset"
   ]
  },
  {
   "cell_type": "markdown",
   "id": "deddd58f",
   "metadata": {},
   "source": [
    "#### Importing the necessary libraries"
   ]
  },
  {
   "cell_type": "code",
   "execution_count": 254,
   "id": "9b51029b",
   "metadata": {},
   "outputs": [],
   "source": [
    "import numpy as np\n",
    "import pandas as pd \n",
    "import seaborn as sns\n",
    "import matplotlib.pyplot as plt\n",
    "%matplotlib inline"
   ]
  },
  {
   "cell_type": "markdown",
   "id": "b2adc312",
   "metadata": {},
   "source": [
    "#### Importing the dataset"
   ]
  },
  {
   "cell_type": "code",
   "execution_count": 255,
   "id": "ade13305",
   "metadata": {},
   "outputs": [
    {
     "data": {
      "text/html": [
       "<div>\n",
       "<style scoped>\n",
       "    .dataframe tbody tr th:only-of-type {\n",
       "        vertical-align: middle;\n",
       "    }\n",
       "\n",
       "    .dataframe tbody tr th {\n",
       "        vertical-align: top;\n",
       "    }\n",
       "\n",
       "    .dataframe thead th {\n",
       "        text-align: right;\n",
       "    }\n",
       "</style>\n",
       "<table border=\"1\" class=\"dataframe\">\n",
       "  <thead>\n",
       "    <tr style=\"text-align: right;\">\n",
       "      <th></th>\n",
       "      <th>course_name</th>\n",
       "      <th>instructor</th>\n",
       "      <th>course url</th>\n",
       "      <th>course image</th>\n",
       "      <th>course description</th>\n",
       "      <th>reviews_avg</th>\n",
       "      <th>reviews_count</th>\n",
       "      <th>course_duration</th>\n",
       "      <th>lectures_count</th>\n",
       "      <th>level</th>\n",
       "      <th>price_after_discount</th>\n",
       "      <th>main_price</th>\n",
       "      <th>course_flag</th>\n",
       "      <th>students_count</th>\n",
       "      <th>Unnamed: 14</th>\n",
       "      <th>Unnamed: 15</th>\n",
       "      <th>Unnamed: 16</th>\n",
       "      <th>Unnamed: 17</th>\n",
       "    </tr>\n",
       "  </thead>\n",
       "  <tbody>\n",
       "    <tr>\n",
       "      <th>0</th>\n",
       "      <td>2022 Complete Python Bootcamp From Zero to Her...</td>\n",
       "      <td>Jose Portilla</td>\n",
       "      <td>https://www.udemy.com/course/complete-python-b...</td>\n",
       "      <td>https://img-b.udemycdn.com/course/240x135/5678...</td>\n",
       "      <td>Learn Python like a Professional  Start from t...</td>\n",
       "      <td>Rating: 4.6 out of 5</td>\n",
       "      <td>440383 reviews</td>\n",
       "      <td>22 total hours</td>\n",
       "      <td>155 lectures</td>\n",
       "      <td>All Levels</td>\n",
       "      <td>Current price: E£319.99</td>\n",
       "      <td>Original price: E£1,399.99</td>\n",
       "      <td>NaN</td>\n",
       "      <td>1,629,692 students</td>\n",
       "      <td>NaN</td>\n",
       "      <td>NaN</td>\n",
       "      <td>NaN</td>\n",
       "      <td>NaN</td>\n",
       "    </tr>\n",
       "    <tr>\n",
       "      <th>1</th>\n",
       "      <td>The Web Developer Bootcamp 2022</td>\n",
       "      <td>Colt Steele</td>\n",
       "      <td>https://www.udemy.com/course/the-web-developer...</td>\n",
       "      <td>https://img-b.udemycdn.com/course/240x135/6252...</td>\n",
       "      <td>COMPLETELY REDONE - The only course you need t...</td>\n",
       "      <td>Rating: 4.7 out of 5</td>\n",
       "      <td>248508 reviews</td>\n",
       "      <td>64 total hours</td>\n",
       "      <td>615 lectures</td>\n",
       "      <td>All Levels</td>\n",
       "      <td>Current price: E£269.99</td>\n",
       "      <td>Original price: E£1,399.99</td>\n",
       "      <td>NaN</td>\n",
       "      <td>830,559 students</td>\n",
       "      <td>NaN</td>\n",
       "      <td>NaN</td>\n",
       "      <td>NaN</td>\n",
       "      <td>NaN</td>\n",
       "    </tr>\n",
       "    <tr>\n",
       "      <th>2</th>\n",
       "      <td>The Complete 2022 Web Development Bootcamp</td>\n",
       "      <td>Dr. Angela Yu</td>\n",
       "      <td>https://www.udemy.com/course/the-complete-web-...</td>\n",
       "      <td>https://img-b.udemycdn.com/course/240x135/1565...</td>\n",
       "      <td>Become a Full-Stack Web Developer with just ON...</td>\n",
       "      <td>Rating: 4.7 out of 5</td>\n",
       "      <td>234837 reviews</td>\n",
       "      <td>65.5 total hours</td>\n",
       "      <td>490 lectures</td>\n",
       "      <td>All Levels</td>\n",
       "      <td>Current price: E£349.99</td>\n",
       "      <td>Original price: E£1,699.99</td>\n",
       "      <td>Bestseller</td>\n",
       "      <td>794,897 students</td>\n",
       "      <td>NaN</td>\n",
       "      <td>NaN</td>\n",
       "      <td>NaN</td>\n",
       "      <td>NaN</td>\n",
       "    </tr>\n",
       "    <tr>\n",
       "      <th>3</th>\n",
       "      <td>Angular - The Complete Guide (2023 Edition)</td>\n",
       "      <td>Maximilian Schwarzmüller</td>\n",
       "      <td>https://www.udemy.com/course/the-complete-guid...</td>\n",
       "      <td>https://img-b.udemycdn.com/course/240x135/7561...</td>\n",
       "      <td>Master Angular 14 (formerly \"Angular 2\") and b...</td>\n",
       "      <td>Rating: 4.6 out of 5</td>\n",
       "      <td>174576 reviews</td>\n",
       "      <td>34.5 total hours</td>\n",
       "      <td>472 lectures</td>\n",
       "      <td>All Levels</td>\n",
       "      <td>Current price: E£319.99</td>\n",
       "      <td>Original price: E£1,599.99</td>\n",
       "      <td>Bestseller</td>\n",
       "      <td>634,196 students</td>\n",
       "      <td>NaN</td>\n",
       "      <td>NaN</td>\n",
       "      <td>NaN</td>\n",
       "      <td>NaN</td>\n",
       "    </tr>\n",
       "    <tr>\n",
       "      <th>4</th>\n",
       "      <td>Java Programming Masterclass covering Java 11 ...</td>\n",
       "      <td>Tim Buchalka, Tim Buchalka's Learn Programming...</td>\n",
       "      <td>https://www.udemy.com/course/java-the-complete...</td>\n",
       "      <td>https://img-b.udemycdn.com/course/240x135/5336...</td>\n",
       "      <td>Learn Java In This Course And Become a Compute...</td>\n",
       "      <td>Rating: 4.5 out of 5</td>\n",
       "      <td>171838 reviews</td>\n",
       "      <td>80.5 total hours</td>\n",
       "      <td>401 lectures</td>\n",
       "      <td>All Levels</td>\n",
       "      <td>Current price: E£349.99</td>\n",
       "      <td>Original price: E£849.99</td>\n",
       "      <td>Bestseller</td>\n",
       "      <td>727,934 students</td>\n",
       "      <td>NaN</td>\n",
       "      <td>NaN</td>\n",
       "      <td>NaN</td>\n",
       "      <td>NaN</td>\n",
       "    </tr>\n",
       "  </tbody>\n",
       "</table>\n",
       "</div>"
      ],
      "text/plain": [
       "                                         course_name  \\\n",
       "0  2022 Complete Python Bootcamp From Zero to Her...   \n",
       "1                    The Web Developer Bootcamp 2022   \n",
       "2         The Complete 2022 Web Development Bootcamp   \n",
       "3        Angular - The Complete Guide (2023 Edition)   \n",
       "4  Java Programming Masterclass covering Java 11 ...   \n",
       "\n",
       "                                          instructor  \\\n",
       "0                                      Jose Portilla   \n",
       "1                                        Colt Steele   \n",
       "2                                      Dr. Angela Yu   \n",
       "3                           Maximilian Schwarzmüller   \n",
       "4  Tim Buchalka, Tim Buchalka's Learn Programming...   \n",
       "\n",
       "                                          course url  \\\n",
       "0  https://www.udemy.com/course/complete-python-b...   \n",
       "1  https://www.udemy.com/course/the-web-developer...   \n",
       "2  https://www.udemy.com/course/the-complete-web-...   \n",
       "3  https://www.udemy.com/course/the-complete-guid...   \n",
       "4  https://www.udemy.com/course/java-the-complete...   \n",
       "\n",
       "                                        course image  \\\n",
       "0  https://img-b.udemycdn.com/course/240x135/5678...   \n",
       "1  https://img-b.udemycdn.com/course/240x135/6252...   \n",
       "2  https://img-b.udemycdn.com/course/240x135/1565...   \n",
       "3  https://img-b.udemycdn.com/course/240x135/7561...   \n",
       "4  https://img-b.udemycdn.com/course/240x135/5336...   \n",
       "\n",
       "                                  course description           reviews_avg  \\\n",
       "0  Learn Python like a Professional  Start from t...  Rating: 4.6 out of 5   \n",
       "1  COMPLETELY REDONE - The only course you need t...  Rating: 4.7 out of 5   \n",
       "2  Become a Full-Stack Web Developer with just ON...  Rating: 4.7 out of 5   \n",
       "3  Master Angular 14 (formerly \"Angular 2\") and b...  Rating: 4.6 out of 5   \n",
       "4  Learn Java In This Course And Become a Compute...  Rating: 4.5 out of 5   \n",
       "\n",
       "    reviews_count   course_duration lectures_count       level  \\\n",
       "0  440383 reviews    22 total hours   155 lectures  All Levels   \n",
       "1  248508 reviews    64 total hours   615 lectures  All Levels   \n",
       "2  234837 reviews  65.5 total hours   490 lectures  All Levels   \n",
       "3  174576 reviews  34.5 total hours   472 lectures  All Levels   \n",
       "4  171838 reviews  80.5 total hours   401 lectures  All Levels   \n",
       "\n",
       "      price_after_discount                  main_price course_flag  \\\n",
       "0  Current price: E£319.99  Original price: E£1,399.99         NaN   \n",
       "1  Current price: E£269.99  Original price: E£1,399.99         NaN   \n",
       "2  Current price: E£349.99  Original price: E£1,699.99  Bestseller   \n",
       "3  Current price: E£319.99  Original price: E£1,599.99  Bestseller   \n",
       "4  Current price: E£349.99    Original price: E£849.99  Bestseller   \n",
       "\n",
       "       students_count Unnamed: 14 Unnamed: 15 Unnamed: 16 Unnamed: 17  \n",
       "0  1,629,692 students         NaN         NaN         NaN         NaN  \n",
       "1    830,559 students         NaN         NaN         NaN         NaN  \n",
       "2    794,897 students         NaN         NaN         NaN         NaN  \n",
       "3    634,196 students         NaN         NaN         NaN         NaN  \n",
       "4    727,934 students         NaN         NaN         NaN         NaN  "
      ]
     },
     "execution_count": 255,
     "metadata": {},
     "output_type": "execute_result"
    }
   ],
   "source": [
    "df = pd.read_csv('data.csv')\n",
    "df.head(5)"
   ]
  },
  {
   "cell_type": "markdown",
   "id": "378feabb",
   "metadata": {},
   "source": [
    "#### Lets get the basic information about the dataset"
   ]
  },
  {
   "cell_type": "code",
   "execution_count": 256,
   "id": "3f6c7860",
   "metadata": {},
   "outputs": [
    {
     "data": {
      "text/plain": [
       "(5027, 18)"
      ]
     },
     "execution_count": 256,
     "metadata": {},
     "output_type": "execute_result"
    }
   ],
   "source": [
    "df.shape"
   ]
  },
  {
   "cell_type": "code",
   "execution_count": 257,
   "id": "145b22d2",
   "metadata": {},
   "outputs": [
    {
     "name": "stdout",
     "output_type": "stream",
     "text": [
      "<class 'pandas.core.frame.DataFrame'>\n",
      "RangeIndex: 5027 entries, 0 to 5026\n",
      "Data columns (total 18 columns):\n",
      " #   Column                Non-Null Count  Dtype \n",
      "---  ------                --------------  ----- \n",
      " 0   course_name           5013 non-null   object\n",
      " 1   instructor            5016 non-null   object\n",
      " 2   course url            5020 non-null   object\n",
      " 3   course image          5017 non-null   object\n",
      " 4   course description    5016 non-null   object\n",
      " 5   reviews_avg           5017 non-null   object\n",
      " 6   reviews_count         5017 non-null   object\n",
      " 7   course_duration       5017 non-null   object\n",
      " 8   lectures_count        5017 non-null   object\n",
      " 9   level                 5017 non-null   object\n",
      " 10  price_after_discount  5017 non-null   object\n",
      " 11  main_price            4799 non-null   object\n",
      " 12  course_flag           518 non-null    object\n",
      " 13  students_count        5013 non-null   object\n",
      " 14  Unnamed: 14           3 non-null      object\n",
      " 15  Unnamed: 15           1 non-null      object\n",
      " 16  Unnamed: 16           1 non-null      object\n",
      " 17  Unnamed: 17           1 non-null      object\n",
      "dtypes: object(18)\n",
      "memory usage: 707.1+ KB\n"
     ]
    }
   ],
   "source": [
    "df.info()"
   ]
  },
  {
   "cell_type": "code",
   "execution_count": 258,
   "id": "1ff6ecf0",
   "metadata": {},
   "outputs": [
    {
     "data": {
      "text/html": [
       "<div>\n",
       "<style scoped>\n",
       "    .dataframe tbody tr th:only-of-type {\n",
       "        vertical-align: middle;\n",
       "    }\n",
       "\n",
       "    .dataframe tbody tr th {\n",
       "        vertical-align: top;\n",
       "    }\n",
       "\n",
       "    .dataframe thead th {\n",
       "        text-align: right;\n",
       "    }\n",
       "</style>\n",
       "<table border=\"1\" class=\"dataframe\">\n",
       "  <thead>\n",
       "    <tr style=\"text-align: right;\">\n",
       "      <th></th>\n",
       "      <th>course_name</th>\n",
       "      <th>instructor</th>\n",
       "      <th>course url</th>\n",
       "      <th>course image</th>\n",
       "      <th>course description</th>\n",
       "      <th>reviews_avg</th>\n",
       "      <th>reviews_count</th>\n",
       "      <th>course_duration</th>\n",
       "      <th>lectures_count</th>\n",
       "      <th>level</th>\n",
       "      <th>price_after_discount</th>\n",
       "      <th>main_price</th>\n",
       "      <th>course_flag</th>\n",
       "      <th>students_count</th>\n",
       "      <th>Unnamed: 14</th>\n",
       "      <th>Unnamed: 15</th>\n",
       "      <th>Unnamed: 16</th>\n",
       "      <th>Unnamed: 17</th>\n",
       "    </tr>\n",
       "  </thead>\n",
       "  <tbody>\n",
       "    <tr>\n",
       "      <th>count</th>\n",
       "      <td>5013</td>\n",
       "      <td>5016</td>\n",
       "      <td>5020</td>\n",
       "      <td>5017</td>\n",
       "      <td>5016</td>\n",
       "      <td>5017</td>\n",
       "      <td>5017</td>\n",
       "      <td>5017</td>\n",
       "      <td>5017</td>\n",
       "      <td>5017</td>\n",
       "      <td>5017</td>\n",
       "      <td>4799</td>\n",
       "      <td>518</td>\n",
       "      <td>5013</td>\n",
       "      <td>3</td>\n",
       "      <td>1</td>\n",
       "      <td>1</td>\n",
       "      <td>1</td>\n",
       "    </tr>\n",
       "    <tr>\n",
       "      <th>unique</th>\n",
       "      <td>4975</td>\n",
       "      <td>2131</td>\n",
       "      <td>5000</td>\n",
       "      <td>4913</td>\n",
       "      <td>4967</td>\n",
       "      <td>33</td>\n",
       "      <td>1962</td>\n",
       "      <td>196</td>\n",
       "      <td>455</td>\n",
       "      <td>10</td>\n",
       "      <td>32</td>\n",
       "      <td>32</td>\n",
       "      <td>3</td>\n",
       "      <td>4397</td>\n",
       "      <td>3</td>\n",
       "      <td>1</td>\n",
       "      <td>1</td>\n",
       "      <td>1</td>\n",
       "    </tr>\n",
       "    <tr>\n",
       "      <th>top</th>\n",
       "      <td>Python for Beginners</td>\n",
       "      <td>Packt Publishing</td>\n",
       "      <td>https://www.udemy.com/course/build-apps-with-r...</td>\n",
       "      <td>data:image/svg+xml,%3Csvg xmlns=\"http://www.w3...</td>\n",
       "      <td>Learn Xamarin Forms Real World Application Fro...</td>\n",
       "      <td>Rating: 4.6 out of 5</td>\n",
       "      <td>129 reviews</td>\n",
       "      <td>2.5 total hours</td>\n",
       "      <td>32 lectures</td>\n",
       "      <td>All Levels</td>\n",
       "      <td>Current price: E£269.99</td>\n",
       "      <td>Original price: E£229.99</td>\n",
       "      <td>Bestseller</td>\n",
       "      <td>1,136 students</td>\n",
       "      <td>E£1,399.99</td>\n",
       "      <td>1,982 students</td>\n",
       "      <td>Devops Fundamentals - CI/CD with AWS +Docker+A...</td>\n",
       "      <td>24,712 students</td>\n",
       "    </tr>\n",
       "    <tr>\n",
       "      <th>freq</th>\n",
       "      <td>3</td>\n",
       "      <td>91</td>\n",
       "      <td>2</td>\n",
       "      <td>89</td>\n",
       "      <td>4</td>\n",
       "      <td>732</td>\n",
       "      <td>31</td>\n",
       "      <td>269</td>\n",
       "      <td>69</td>\n",
       "      <td>2687</td>\n",
       "      <td>2150</td>\n",
       "      <td>838</td>\n",
       "      <td>516</td>\n",
       "      <td>5</td>\n",
       "      <td>1</td>\n",
       "      <td>1</td>\n",
       "      <td>1</td>\n",
       "      <td>1</td>\n",
       "    </tr>\n",
       "  </tbody>\n",
       "</table>\n",
       "</div>"
      ],
      "text/plain": [
       "                 course_name        instructor  \\\n",
       "count                   5013              5016   \n",
       "unique                  4975              2131   \n",
       "top     Python for Beginners  Packt Publishing   \n",
       "freq                       3                91   \n",
       "\n",
       "                                               course url  \\\n",
       "count                                                5020   \n",
       "unique                                               5000   \n",
       "top     https://www.udemy.com/course/build-apps-with-r...   \n",
       "freq                                                    2   \n",
       "\n",
       "                                             course image  \\\n",
       "count                                                5017   \n",
       "unique                                               4913   \n",
       "top     data:image/svg+xml,%3Csvg xmlns=\"http://www.w3...   \n",
       "freq                                                   89   \n",
       "\n",
       "                                       course description  \\\n",
       "count                                                5016   \n",
       "unique                                               4967   \n",
       "top     Learn Xamarin Forms Real World Application Fro...   \n",
       "freq                                                    4   \n",
       "\n",
       "                 reviews_avg reviews_count  course_duration lectures_count  \\\n",
       "count                   5017          5017             5017           5017   \n",
       "unique                    33          1962              196            455   \n",
       "top     Rating: 4.6 out of 5   129 reviews  2.5 total hours    32 lectures   \n",
       "freq                     732            31              269             69   \n",
       "\n",
       "             level     price_after_discount                main_price  \\\n",
       "count         5017                     5017                      4799   \n",
       "unique          10                       32                        32   \n",
       "top     All Levels  Current price: E£269.99  Original price: E£229.99   \n",
       "freq          2687                     2150                       838   \n",
       "\n",
       "       course_flag  students_count Unnamed: 14     Unnamed: 15  \\\n",
       "count          518            5013           3               1   \n",
       "unique           3            4397           3               1   \n",
       "top     Bestseller  1,136 students  E£1,399.99  1,982 students   \n",
       "freq           516               5           1               1   \n",
       "\n",
       "                                              Unnamed: 16      Unnamed: 17  \n",
       "count                                                   1                1  \n",
       "unique                                                  1                1  \n",
       "top     Devops Fundamentals - CI/CD with AWS +Docker+A...  24,712 students  \n",
       "freq                                                    1                1  "
      ]
     },
     "execution_count": 258,
     "metadata": {},
     "output_type": "execute_result"
    }
   ],
   "source": [
    "df.describe()"
   ]
  },
  {
   "cell_type": "markdown",
   "id": "08209389",
   "metadata": {},
   "source": [
    "#### From the initail findings we get\n",
    "* we have 5027 rows and 18 columns\n",
    "* we have numerical values in the dataset but it shows no numerical values in the dataset "
   ]
  },
  {
   "cell_type": "markdown",
   "id": "1eb76ce9",
   "metadata": {},
   "source": [
    "#### My initial step of analysis  is basically \n",
    "* removing unwanted columns \n",
    "* finding out the null values\n",
    "* finding if the outliers exists in a dataset or not\n",
    "* filling the null values with correct measure of central tendency based on the distribution of data \n",
    "* Changing the datatype of columns if required\n",
    "* prepare the dataset for visualization "
   ]
  },
  {
   "cell_type": "markdown",
   "id": "54f99455",
   "metadata": {},
   "source": [
    "##### Removing unwanted columns"
   ]
  },
  {
   "cell_type": "code",
   "execution_count": 259,
   "id": "585ea41e",
   "metadata": {},
   "outputs": [],
   "source": [
    "unwanted_columns = ['Unnamed: 17','Unnamed: 16','Unnamed: 15','Unnamed: 14','course_flag','course url','course image','course description']"
   ]
  },
  {
   "cell_type": "code",
   "execution_count": 260,
   "id": "df8abd6a",
   "metadata": {},
   "outputs": [],
   "source": [
    "df = df.drop(columns=unwanted_columns)"
   ]
  },
  {
   "cell_type": "code",
   "execution_count": 261,
   "id": "3ecaae29",
   "metadata": {},
   "outputs": [
    {
     "data": {
      "text/html": [
       "<div>\n",
       "<style scoped>\n",
       "    .dataframe tbody tr th:only-of-type {\n",
       "        vertical-align: middle;\n",
       "    }\n",
       "\n",
       "    .dataframe tbody tr th {\n",
       "        vertical-align: top;\n",
       "    }\n",
       "\n",
       "    .dataframe thead th {\n",
       "        text-align: right;\n",
       "    }\n",
       "</style>\n",
       "<table border=\"1\" class=\"dataframe\">\n",
       "  <thead>\n",
       "    <tr style=\"text-align: right;\">\n",
       "      <th></th>\n",
       "      <th>course_name</th>\n",
       "      <th>instructor</th>\n",
       "      <th>reviews_avg</th>\n",
       "      <th>reviews_count</th>\n",
       "      <th>course_duration</th>\n",
       "      <th>lectures_count</th>\n",
       "      <th>level</th>\n",
       "      <th>price_after_discount</th>\n",
       "      <th>main_price</th>\n",
       "      <th>students_count</th>\n",
       "    </tr>\n",
       "  </thead>\n",
       "  <tbody>\n",
       "    <tr>\n",
       "      <th>0</th>\n",
       "      <td>2022 Complete Python Bootcamp From Zero to Her...</td>\n",
       "      <td>Jose Portilla</td>\n",
       "      <td>Rating: 4.6 out of 5</td>\n",
       "      <td>440383 reviews</td>\n",
       "      <td>22 total hours</td>\n",
       "      <td>155 lectures</td>\n",
       "      <td>All Levels</td>\n",
       "      <td>Current price: E£319.99</td>\n",
       "      <td>Original price: E£1,399.99</td>\n",
       "      <td>1,629,692 students</td>\n",
       "    </tr>\n",
       "    <tr>\n",
       "      <th>1</th>\n",
       "      <td>The Web Developer Bootcamp 2022</td>\n",
       "      <td>Colt Steele</td>\n",
       "      <td>Rating: 4.7 out of 5</td>\n",
       "      <td>248508 reviews</td>\n",
       "      <td>64 total hours</td>\n",
       "      <td>615 lectures</td>\n",
       "      <td>All Levels</td>\n",
       "      <td>Current price: E£269.99</td>\n",
       "      <td>Original price: E£1,399.99</td>\n",
       "      <td>830,559 students</td>\n",
       "    </tr>\n",
       "    <tr>\n",
       "      <th>2</th>\n",
       "      <td>The Complete 2022 Web Development Bootcamp</td>\n",
       "      <td>Dr. Angela Yu</td>\n",
       "      <td>Rating: 4.7 out of 5</td>\n",
       "      <td>234837 reviews</td>\n",
       "      <td>65.5 total hours</td>\n",
       "      <td>490 lectures</td>\n",
       "      <td>All Levels</td>\n",
       "      <td>Current price: E£349.99</td>\n",
       "      <td>Original price: E£1,699.99</td>\n",
       "      <td>794,897 students</td>\n",
       "    </tr>\n",
       "    <tr>\n",
       "      <th>3</th>\n",
       "      <td>Angular - The Complete Guide (2023 Edition)</td>\n",
       "      <td>Maximilian Schwarzmüller</td>\n",
       "      <td>Rating: 4.6 out of 5</td>\n",
       "      <td>174576 reviews</td>\n",
       "      <td>34.5 total hours</td>\n",
       "      <td>472 lectures</td>\n",
       "      <td>All Levels</td>\n",
       "      <td>Current price: E£319.99</td>\n",
       "      <td>Original price: E£1,599.99</td>\n",
       "      <td>634,196 students</td>\n",
       "    </tr>\n",
       "    <tr>\n",
       "      <th>4</th>\n",
       "      <td>Java Programming Masterclass covering Java 11 ...</td>\n",
       "      <td>Tim Buchalka, Tim Buchalka's Learn Programming...</td>\n",
       "      <td>Rating: 4.5 out of 5</td>\n",
       "      <td>171838 reviews</td>\n",
       "      <td>80.5 total hours</td>\n",
       "      <td>401 lectures</td>\n",
       "      <td>All Levels</td>\n",
       "      <td>Current price: E£349.99</td>\n",
       "      <td>Original price: E£849.99</td>\n",
       "      <td>727,934 students</td>\n",
       "    </tr>\n",
       "  </tbody>\n",
       "</table>\n",
       "</div>"
      ],
      "text/plain": [
       "                                         course_name  \\\n",
       "0  2022 Complete Python Bootcamp From Zero to Her...   \n",
       "1                    The Web Developer Bootcamp 2022   \n",
       "2         The Complete 2022 Web Development Bootcamp   \n",
       "3        Angular - The Complete Guide (2023 Edition)   \n",
       "4  Java Programming Masterclass covering Java 11 ...   \n",
       "\n",
       "                                          instructor           reviews_avg  \\\n",
       "0                                      Jose Portilla  Rating: 4.6 out of 5   \n",
       "1                                        Colt Steele  Rating: 4.7 out of 5   \n",
       "2                                      Dr. Angela Yu  Rating: 4.7 out of 5   \n",
       "3                           Maximilian Schwarzmüller  Rating: 4.6 out of 5   \n",
       "4  Tim Buchalka, Tim Buchalka's Learn Programming...  Rating: 4.5 out of 5   \n",
       "\n",
       "    reviews_count   course_duration lectures_count       level  \\\n",
       "0  440383 reviews    22 total hours   155 lectures  All Levels   \n",
       "1  248508 reviews    64 total hours   615 lectures  All Levels   \n",
       "2  234837 reviews  65.5 total hours   490 lectures  All Levels   \n",
       "3  174576 reviews  34.5 total hours   472 lectures  All Levels   \n",
       "4  171838 reviews  80.5 total hours   401 lectures  All Levels   \n",
       "\n",
       "      price_after_discount                  main_price      students_count  \n",
       "0  Current price: E£319.99  Original price: E£1,399.99  1,629,692 students  \n",
       "1  Current price: E£269.99  Original price: E£1,399.99    830,559 students  \n",
       "2  Current price: E£349.99  Original price: E£1,699.99    794,897 students  \n",
       "3  Current price: E£319.99  Original price: E£1,599.99    634,196 students  \n",
       "4  Current price: E£349.99    Original price: E£849.99    727,934 students  "
      ]
     },
     "execution_count": 261,
     "metadata": {},
     "output_type": "execute_result"
    }
   ],
   "source": [
    "df.head(5)"
   ]
  },
  {
   "cell_type": "markdown",
   "id": "1dac5195",
   "metadata": {},
   "source": [
    "##### we dropped 8 columns in total as it has no relevance to the analysis or just contained too many null values "
   ]
  },
  {
   "cell_type": "markdown",
   "id": "4209d02c",
   "metadata": {},
   "source": [
    "###### Lets transform the columns we will follow the steps mentioned below for every numerical column \n",
    "* check the type of values in the column using value_counts\n",
    "* Remove values that are not numerical in nature \n",
    "* replace the common occuring values wioth suitable values using str.replace()\n",
    "* convert the column to float or int datatype depending on the needs\n",
    "* Check for null values in the column\n",
    "* plot histogram and boxplots for distribution and outlier detection \n",
    "* Replace the null values with suitable measure of central tendency"
   ]
  },
  {
   "cell_type": "markdown",
   "id": "23ef31ef",
   "metadata": {},
   "source": [
    "### Lets start with \" reviews_avg \" column"
   ]
  },
  {
   "cell_type": "markdown",
   "id": "22855f31",
   "metadata": {},
   "source": [
    "######  check the type of values in the column using value_counts"
   ]
  },
  {
   "cell_type": "code",
   "execution_count": 262,
   "id": "40926a39",
   "metadata": {},
   "outputs": [
    {
     "data": {
      "text/plain": [
       "Rating: 4.6 out of 5                                                                                                     732\n",
       "Rating: 4.5 out of 5                                                                                                     728\n",
       "Rating: 4.4 out of 5                                                                                                     641\n",
       "Rating: 4.3 out of 5                                                                                                     486\n",
       "Rating: 4.7 out of 5                                                                                                     432\n",
       "Rating: 4.2 out of 5                                                                                                     365\n",
       "Rating: 4.1 out of 5                                                                                                     286\n",
       "Rating: 4.8 out of 5                                                                                                     233\n",
       "Rating: 4.0 out of 5                                                                                                     227\n",
       "Rating: 3.9 out of 5                                                                                                     170\n",
       "Rating: 3.8 out of 5                                                                                                     149\n",
       "Rating: 3.7 out of 5                                                                                                     112\n",
       "Rating: 3.6 out of 5                                                                                                     101\n",
       "Rating: 3.5 out of 5                                                                                                      71\n",
       "Rating: 4.9 out of 5                                                                                                      68\n",
       "Rating: 3.4 out of 5                                                                                                      62\n",
       "Rating: 3.3 out of 5                                                                                                      38\n",
       "Rating: 3.2 out of 5                                                                                                      31\n",
       "Rating: 3.1 out of 5                                                                                                      21\n",
       "Rating: 3.0 out of 5                                                                                                      14\n",
       "Rating: 2.9 out of 5                                                                                                      11\n",
       "Rating: 2.8 out of 5                                                                                                       8\n",
       "Rating: 5.0 out of 5                                                                                                       7\n",
       "Rating: 2.6 out of 5                                                                                                       6\n",
       "Rating: 2.4 out of 5                                                                                                       5\n",
       "Rating: 2.7 out of 5                                                                                                       4\n",
       "Rating: 2.5 out of 5                                                                                                       3\n",
       "399.99\"                                                                                                                    1\n",
       "Rating: 2.1 out of 5                                                                                                       1\n",
       "https://img-b.udemycdn.com/course/240x135/368679_cd44_3.jpg                                                                1\n",
       "Rating: 1.9 out of 5                                                                                                       1\n",
       "Rating: 1.7 out of 5                                                                                                       1\n",
       "Beginner guide to Git, Github and Github Action. Learn to use git commands and create Github actions for DevOps CI CD      1\n",
       "Name: reviews_avg, dtype: int64"
      ]
     },
     "execution_count": 262,
     "metadata": {},
     "output_type": "execute_result"
    }
   ],
   "source": [
    "df['reviews_avg'].value_counts()"
   ]
  },
  {
   "cell_type": "markdown",
   "id": "c1d6e799",
   "metadata": {},
   "source": [
    "##### Removing the values that are not numerical in nature"
   ]
  },
  {
   "cell_type": "code",
   "execution_count": 263,
   "id": "8f91339d",
   "metadata": {},
   "outputs": [
    {
     "data": {
      "text/html": [
       "<div>\n",
       "<style scoped>\n",
       "    .dataframe tbody tr th:only-of-type {\n",
       "        vertical-align: middle;\n",
       "    }\n",
       "\n",
       "    .dataframe tbody tr th {\n",
       "        vertical-align: top;\n",
       "    }\n",
       "\n",
       "    .dataframe thead th {\n",
       "        text-align: right;\n",
       "    }\n",
       "</style>\n",
       "<table border=\"1\" class=\"dataframe\">\n",
       "  <thead>\n",
       "    <tr style=\"text-align: right;\">\n",
       "      <th></th>\n",
       "      <th>course_name</th>\n",
       "      <th>instructor</th>\n",
       "      <th>reviews_avg</th>\n",
       "      <th>reviews_count</th>\n",
       "      <th>course_duration</th>\n",
       "      <th>lectures_count</th>\n",
       "      <th>level</th>\n",
       "      <th>price_after_discount</th>\n",
       "      <th>main_price</th>\n",
       "      <th>students_count</th>\n",
       "    </tr>\n",
       "  </thead>\n",
       "  <tbody>\n",
       "    <tr>\n",
       "      <th>3507</th>\n",
       "      <td>E£629.99</td>\n",
       "      <td>Current price: E£269.99</td>\n",
       "      <td>https://img-b.udemycdn.com/course/240x135/3686...</td>\n",
       "      <td>Master Magento's modular framework, from insta...</td>\n",
       "      <td>Rating: 4.2 out of 5</td>\n",
       "      <td>235 reviews</td>\n",
       "      <td>3.5 total hours</td>\n",
       "      <td>40 lectures</td>\n",
       "      <td>All Levels</td>\n",
       "      <td>NaN</td>\n",
       "    </tr>\n",
       "  </tbody>\n",
       "</table>\n",
       "</div>"
      ],
      "text/plain": [
       "     course_name               instructor  \\\n",
       "3507    E£629.99  Current price: E£269.99   \n",
       "\n",
       "                                            reviews_avg  \\\n",
       "3507  https://img-b.udemycdn.com/course/240x135/3686...   \n",
       "\n",
       "                                          reviews_count       course_duration  \\\n",
       "3507  Master Magento's modular framework, from insta...  Rating: 4.2 out of 5   \n",
       "\n",
       "     lectures_count            level price_after_discount  main_price  \\\n",
       "3507    235 reviews  3.5 total hours          40 lectures  All Levels   \n",
       "\n",
       "     students_count  \n",
       "3507            NaN  "
      ]
     },
     "execution_count": 263,
     "metadata": {},
     "output_type": "execute_result"
    }
   ],
   "source": [
    "df[df['reviews_avg']=='https://img-b.udemycdn.com/course/240x135/368679_cd44_3.jpg']"
   ]
  },
  {
   "cell_type": "code",
   "execution_count": 264,
   "id": "345e3e40",
   "metadata": {},
   "outputs": [
    {
     "data": {
      "text/html": [
       "<div>\n",
       "<style scoped>\n",
       "    .dataframe tbody tr th:only-of-type {\n",
       "        vertical-align: middle;\n",
       "    }\n",
       "\n",
       "    .dataframe tbody tr th {\n",
       "        vertical-align: top;\n",
       "    }\n",
       "\n",
       "    .dataframe thead th {\n",
       "        text-align: right;\n",
       "    }\n",
       "</style>\n",
       "<table border=\"1\" class=\"dataframe\">\n",
       "  <thead>\n",
       "    <tr style=\"text-align: right;\">\n",
       "      <th></th>\n",
       "      <th>course_name</th>\n",
       "      <th>instructor</th>\n",
       "      <th>reviews_avg</th>\n",
       "      <th>reviews_count</th>\n",
       "      <th>course_duration</th>\n",
       "      <th>lectures_count</th>\n",
       "      <th>level</th>\n",
       "      <th>price_after_discount</th>\n",
       "      <th>main_price</th>\n",
       "      <th>students_count</th>\n",
       "    </tr>\n",
       "  </thead>\n",
       "  <tbody>\n",
       "    <tr>\n",
       "      <th>501</th>\n",
       "      <td>(3,449)</td>\n",
       "      <td>58 lectures</td>\n",
       "      <td>399.99\"</td>\n",
       "      <td>https://www.udemy.com/course/devops-fundamenta...</td>\n",
       "      <td>https://img-b.udemycdn.com/course/240x135/3236...</td>\n",
       "      <td>Step by step Practical course to Automate Cont...</td>\n",
       "      <td>Rating: 4.5 out of 5</td>\n",
       "      <td>3449 reviews</td>\n",
       "      <td>9 total hours</td>\n",
       "      <td>E£269.99</td>\n",
       "    </tr>\n",
       "  </tbody>\n",
       "</table>\n",
       "</div>"
      ],
      "text/plain": [
       "    course_name   instructor reviews_avg  \\\n",
       "501     (3,449)  58 lectures     399.99\"   \n",
       "\n",
       "                                         reviews_count  \\\n",
       "501  https://www.udemy.com/course/devops-fundamenta...   \n",
       "\n",
       "                                       course_duration  \\\n",
       "501  https://img-b.udemycdn.com/course/240x135/3236...   \n",
       "\n",
       "                                        lectures_count                 level  \\\n",
       "501  Step by step Practical course to Automate Cont...  Rating: 4.5 out of 5   \n",
       "\n",
       "    price_after_discount     main_price students_count  \n",
       "501         3449 reviews  9 total hours       E£269.99  "
      ]
     },
     "execution_count": 264,
     "metadata": {},
     "output_type": "execute_result"
    }
   ],
   "source": [
    "df[df['reviews_avg']=='399.99\"']"
   ]
  },
  {
   "cell_type": "code",
   "execution_count": 265,
   "id": "e0d6556f",
   "metadata": {},
   "outputs": [
    {
     "data": {
      "text/html": [
       "<div>\n",
       "<style scoped>\n",
       "    .dataframe tbody tr th:only-of-type {\n",
       "        vertical-align: middle;\n",
       "    }\n",
       "\n",
       "    .dataframe tbody tr th {\n",
       "        vertical-align: top;\n",
       "    }\n",
       "\n",
       "    .dataframe thead th {\n",
       "        text-align: right;\n",
       "    }\n",
       "</style>\n",
       "<table border=\"1\" class=\"dataframe\">\n",
       "  <thead>\n",
       "    <tr style=\"text-align: right;\">\n",
       "      <th></th>\n",
       "      <th>course_name</th>\n",
       "      <th>instructor</th>\n",
       "      <th>reviews_avg</th>\n",
       "      <th>reviews_count</th>\n",
       "      <th>course_duration</th>\n",
       "      <th>lectures_count</th>\n",
       "      <th>level</th>\n",
       "      <th>price_after_discount</th>\n",
       "      <th>main_price</th>\n",
       "      <th>students_count</th>\n",
       "    </tr>\n",
       "  </thead>\n",
       "  <tbody>\n",
       "    <tr>\n",
       "      <th>5010</th>\n",
       "      <td>NaN</td>\n",
       "      <td>NaN</td>\n",
       "      <td>Beginner guide to Git, Github and Github Actio...</td>\n",
       "      <td>Rating: 3.6 out of 5</td>\n",
       "      <td>124 reviews</td>\n",
       "      <td>1.5 total hours</td>\n",
       "      <td>22 lectures</td>\n",
       "      <td>All Levels</td>\n",
       "      <td>Current price: E£229.99</td>\n",
       "      <td>Learn Git, Github and Github Actions for DevOp...</td>\n",
       "    </tr>\n",
       "  </tbody>\n",
       "</table>\n",
       "</div>"
      ],
      "text/plain": [
       "     course_name instructor  \\\n",
       "5010         NaN        NaN   \n",
       "\n",
       "                                            reviews_avg         reviews_count  \\\n",
       "5010  Beginner guide to Git, Github and Github Actio...  Rating: 3.6 out of 5   \n",
       "\n",
       "     course_duration   lectures_count        level price_after_discount  \\\n",
       "5010     124 reviews  1.5 total hours  22 lectures           All Levels   \n",
       "\n",
       "                   main_price  \\\n",
       "5010  Current price: E£229.99   \n",
       "\n",
       "                                         students_count  \n",
       "5010  Learn Git, Github and Github Actions for DevOp...  "
      ]
     },
     "execution_count": 265,
     "metadata": {},
     "output_type": "execute_result"
    }
   ],
   "source": [
    "df[df['reviews_avg']=='Beginner guide to Git, Github and Github Action. Learn to use git commands and create Github actions for DevOps CI CD']"
   ]
  },
  {
   "cell_type": "code",
   "execution_count": 266,
   "id": "79cebd27",
   "metadata": {},
   "outputs": [],
   "source": [
    "rows_to_be_dropped = [5010,501,3507]"
   ]
  },
  {
   "cell_type": "code",
   "execution_count": 267,
   "id": "14cf44a9",
   "metadata": {},
   "outputs": [],
   "source": [
    "df = df.drop(rows_to_be_dropped)"
   ]
  },
  {
   "cell_type": "code",
   "execution_count": 268,
   "id": "8e985708",
   "metadata": {},
   "outputs": [
    {
     "data": {
      "text/plain": [
       "Rating: 4.6 out of 5    732\n",
       "Rating: 4.5 out of 5    728\n",
       "Rating: 4.4 out of 5    641\n",
       "Rating: 4.3 out of 5    486\n",
       "Rating: 4.7 out of 5    432\n",
       "Rating: 4.2 out of 5    365\n",
       "Rating: 4.1 out of 5    286\n",
       "Rating: 4.8 out of 5    233\n",
       "Rating: 4.0 out of 5    227\n",
       "Rating: 3.9 out of 5    170\n",
       "Rating: 3.8 out of 5    149\n",
       "Rating: 3.7 out of 5    112\n",
       "Rating: 3.6 out of 5    101\n",
       "Rating: 3.5 out of 5     71\n",
       "Rating: 4.9 out of 5     68\n",
       "Rating: 3.4 out of 5     62\n",
       "Rating: 3.3 out of 5     38\n",
       "Rating: 3.2 out of 5     31\n",
       "Rating: 3.1 out of 5     21\n",
       "Rating: 3.0 out of 5     14\n",
       "Rating: 2.9 out of 5     11\n",
       "Rating: 2.8 out of 5      8\n",
       "Rating: 5.0 out of 5      7\n",
       "Rating: 2.6 out of 5      6\n",
       "Rating: 2.4 out of 5      5\n",
       "Rating: 2.7 out of 5      4\n",
       "Rating: 2.5 out of 5      3\n",
       "Rating: 2.1 out of 5      1\n",
       "Rating: 1.9 out of 5      1\n",
       "Rating: 1.7 out of 5      1\n",
       "Name: reviews_avg, dtype: int64"
      ]
     },
     "execution_count": 268,
     "metadata": {},
     "output_type": "execute_result"
    }
   ],
   "source": [
    "df['reviews_avg'].value_counts()"
   ]
  },
  {
   "cell_type": "markdown",
   "id": "c63b7d21",
   "metadata": {},
   "source": [
    "##### Replace the common occuring values with suitable values using str.replace()"
   ]
  },
  {
   "cell_type": "code",
   "execution_count": 269,
   "id": "76280560",
   "metadata": {},
   "outputs": [],
   "source": [
    "df['reviews_avg'] = df['reviews_avg'].str.replace('Rating: ','')"
   ]
  },
  {
   "cell_type": "code",
   "execution_count": 270,
   "id": "83bc7120",
   "metadata": {},
   "outputs": [],
   "source": [
    "df['reviews_avg'] = df['reviews_avg'].str.replace(' out of 5','')"
   ]
  },
  {
   "cell_type": "code",
   "execution_count": 271,
   "id": "1d582adb",
   "metadata": {},
   "outputs": [
    {
     "data": {
      "text/plain": [
       "4.6    732\n",
       "4.5    728\n",
       "4.4    641\n",
       "4.3    486\n",
       "4.7    432\n",
       "4.2    365\n",
       "4.1    286\n",
       "4.8    233\n",
       "4.0    227\n",
       "3.9    170\n",
       "3.8    149\n",
       "3.7    112\n",
       "3.6    101\n",
       "3.5     71\n",
       "4.9     68\n",
       "3.4     62\n",
       "3.3     38\n",
       "3.2     31\n",
       "3.1     21\n",
       "3.0     14\n",
       "2.9     11\n",
       "2.8      8\n",
       "5.0      7\n",
       "2.6      6\n",
       "2.4      5\n",
       "2.7      4\n",
       "2.5      3\n",
       "2.1      1\n",
       "1.9      1\n",
       "1.7      1\n",
       "Name: reviews_avg, dtype: int64"
      ]
     },
     "execution_count": 271,
     "metadata": {},
     "output_type": "execute_result"
    }
   ],
   "source": [
    "df['reviews_avg'].value_counts()"
   ]
  },
  {
   "cell_type": "markdown",
   "id": "7e7503c5",
   "metadata": {},
   "source": [
    "##### convert the column to float or int datatype depending on the needs"
   ]
  },
  {
   "cell_type": "code",
   "execution_count": 272,
   "id": "bf604e94",
   "metadata": {},
   "outputs": [],
   "source": [
    "df['reviews_avg'] = df['reviews_avg'].astype(float)"
   ]
  },
  {
   "cell_type": "markdown",
   "id": "492f12a8",
   "metadata": {},
   "source": [
    "##### Check for null values in the column"
   ]
  },
  {
   "cell_type": "code",
   "execution_count": 273,
   "id": "cb5ec716",
   "metadata": {
    "scrolled": true
   },
   "outputs": [
    {
     "data": {
      "text/plain": [
       "10"
      ]
     },
     "execution_count": 273,
     "metadata": {},
     "output_type": "execute_result"
    }
   ],
   "source": [
    "df.reviews_avg.isna().sum()"
   ]
  },
  {
   "cell_type": "markdown",
   "id": "686759e9",
   "metadata": {},
   "source": [
    "##### Plot histogram and boxplots for distribution and outlier detection"
   ]
  },
  {
   "cell_type": "code",
   "execution_count": 274,
   "id": "500e1c9a",
   "metadata": {},
   "outputs": [
    {
     "data": {
      "text/plain": [
       "<Axes: xlabel='reviews_avg', ylabel='Count'>"
      ]
     },
     "execution_count": 274,
     "metadata": {},
     "output_type": "execute_result"
    },
    {
     "data": {
      "image/png": "[encoded data removed]",
      "text/plain": [
       "<Figure size 640x480 with 1 Axes>"
      ]
     },
     "metadata": {},
     "output_type": "display_data"
    }
   ],
   "source": [
    "sns.histplot(data=df['reviews_avg'],kde=True)"
   ]
  },
  {
   "cell_type": "markdown",
   "id": "eb7118bd",
   "metadata": {},
   "source": [
    "the distribution is skewed hence the mean is affected by an extreme value or outlier hence we will plot a boxplot to see if any outlier exists or not "
   ]
  },
  {
   "cell_type": "code",
   "execution_count": 275,
   "id": "dcef6c8c",
   "metadata": {},
   "outputs": [
    {
     "data": {
      "text/plain": [
       "<Axes: >"
      ]
     },
     "execution_count": 275,
     "metadata": {},
     "output_type": "execute_result"
    },
    {
     "data": {
      "image/png": "[encoded data removed]",
      "text/plain": [
       "<Figure size 640x480 with 1 Axes>"
      ]
     },
     "metadata": {},
     "output_type": "display_data"
    }
   ],
   "source": [
    "sns.boxplot(data=df['reviews_avg'])"
   ]
  },
  {
   "cell_type": "markdown",
   "id": "7a24b446",
   "metadata": {},
   "source": [
    "There are no outliers present and the datapoints we see in the boxplot are nothing but true outliers"
   ]
  },
  {
   "cell_type": "code",
   "execution_count": 276,
   "id": "088aa492",
   "metadata": {
    "scrolled": true
   },
   "outputs": [
    {
     "name": "stdout",
     "output_type": "stream",
     "text": [
      "4.4\n"
     ]
    }
   ],
   "source": [
    "reviews_avg_median = df['reviews_avg'].median()\n",
    "print(reviews_avg_median)"
   ]
  },
  {
   "cell_type": "code",
   "execution_count": 277,
   "id": "620fcc96",
   "metadata": {},
   "outputs": [],
   "source": [
    "df['reviews_avg'].fillna(reviews_avg_median, inplace=True)"
   ]
  },
  {
   "cell_type": "code",
   "execution_count": 278,
   "id": "b1b691e9",
   "metadata": {},
   "outputs": [
    {
     "data": {
      "text/plain": [
       "course_name              13\n",
       "instructor               10\n",
       "reviews_avg               0\n",
       "reviews_count            10\n",
       "course_duration          10\n",
       "lectures_count           10\n",
       "level                    10\n",
       "price_after_discount     10\n",
       "main_price              228\n",
       "students_count           13\n",
       "dtype: int64"
      ]
     },
     "execution_count": 278,
     "metadata": {},
     "output_type": "execute_result"
    }
   ],
   "source": [
    "df.isnull().sum()"
   ]
  },
  {
   "cell_type": "code",
   "execution_count": 279,
   "id": "1f9b3431",
   "metadata": {},
   "outputs": [
    {
     "name": "stdout",
     "output_type": "stream",
     "text": [
      "<class 'pandas.core.frame.DataFrame'>\n",
      "Int64Index: 5024 entries, 0 to 5026\n",
      "Data columns (total 10 columns):\n",
      " #   Column                Non-Null Count  Dtype  \n",
      "---  ------                --------------  -----  \n",
      " 0   course_name           5011 non-null   object \n",
      " 1   instructor            5014 non-null   object \n",
      " 2   reviews_avg           5024 non-null   float64\n",
      " 3   reviews_count         5014 non-null   object \n",
      " 4   course_duration       5014 non-null   object \n",
      " 5   lectures_count        5014 non-null   object \n",
      " 6   level                 5014 non-null   object \n",
      " 7   price_after_discount  5014 non-null   object \n",
      " 8   main_price            4796 non-null   object \n",
      " 9   students_count        5011 non-null   object \n",
      "dtypes: float64(1), object(9)\n",
      "memory usage: 560.8+ KB\n"
     ]
    }
   ],
   "source": [
    "df.info()"
   ]
  },
  {
   "cell_type": "markdown",
   "id": "f4efd425",
   "metadata": {},
   "source": [
    "#### As we can we successfully completed all the steps and we completely transformed our \" reviews_avg \" column succesfully"
   ]
  },
  {
   "cell_type": "code",
   "execution_count": 280,
   "id": "6f9d11e4",
   "metadata": {
    "scrolled": true
   },
   "outputs": [
    {
     "data": {
      "text/html": [
       "<div>\n",
       "<style scoped>\n",
       "    .dataframe tbody tr th:only-of-type {\n",
       "        vertical-align: middle;\n",
       "    }\n",
       "\n",
       "    .dataframe tbody tr th {\n",
       "        vertical-align: top;\n",
       "    }\n",
       "\n",
       "    .dataframe thead th {\n",
       "        text-align: right;\n",
       "    }\n",
       "</style>\n",
       "<table border=\"1\" class=\"dataframe\">\n",
       "  <thead>\n",
       "    <tr style=\"text-align: right;\">\n",
       "      <th></th>\n",
       "      <th>course_name</th>\n",
       "      <th>instructor</th>\n",
       "      <th>reviews_avg</th>\n",
       "      <th>reviews_count</th>\n",
       "      <th>course_duration</th>\n",
       "      <th>lectures_count</th>\n",
       "      <th>level</th>\n",
       "      <th>price_after_discount</th>\n",
       "      <th>main_price</th>\n",
       "      <th>students_count</th>\n",
       "    </tr>\n",
       "  </thead>\n",
       "  <tbody>\n",
       "    <tr>\n",
       "      <th>0</th>\n",
       "      <td>2022 Complete Python Bootcamp From Zero to Her...</td>\n",
       "      <td>Jose Portilla</td>\n",
       "      <td>4.6</td>\n",
       "      <td>440383 reviews</td>\n",
       "      <td>22 total hours</td>\n",
       "      <td>155 lectures</td>\n",
       "      <td>All Levels</td>\n",
       "      <td>Current price: E£319.99</td>\n",
       "      <td>Original price: E£1,399.99</td>\n",
       "      <td>1,629,692 students</td>\n",
       "    </tr>\n",
       "    <tr>\n",
       "      <th>1</th>\n",
       "      <td>The Web Developer Bootcamp 2022</td>\n",
       "      <td>Colt Steele</td>\n",
       "      <td>4.7</td>\n",
       "      <td>248508 reviews</td>\n",
       "      <td>64 total hours</td>\n",
       "      <td>615 lectures</td>\n",
       "      <td>All Levels</td>\n",
       "      <td>Current price: E£269.99</td>\n",
       "      <td>Original price: E£1,399.99</td>\n",
       "      <td>830,559 students</td>\n",
       "    </tr>\n",
       "    <tr>\n",
       "      <th>2</th>\n",
       "      <td>The Complete 2022 Web Development Bootcamp</td>\n",
       "      <td>Dr. Angela Yu</td>\n",
       "      <td>4.7</td>\n",
       "      <td>234837 reviews</td>\n",
       "      <td>65.5 total hours</td>\n",
       "      <td>490 lectures</td>\n",
       "      <td>All Levels</td>\n",
       "      <td>Current price: E£349.99</td>\n",
       "      <td>Original price: E£1,699.99</td>\n",
       "      <td>794,897 students</td>\n",
       "    </tr>\n",
       "    <tr>\n",
       "      <th>3</th>\n",
       "      <td>Angular - The Complete Guide (2023 Edition)</td>\n",
       "      <td>Maximilian Schwarzmüller</td>\n",
       "      <td>4.6</td>\n",
       "      <td>174576 reviews</td>\n",
       "      <td>34.5 total hours</td>\n",
       "      <td>472 lectures</td>\n",
       "      <td>All Levels</td>\n",
       "      <td>Current price: E£319.99</td>\n",
       "      <td>Original price: E£1,599.99</td>\n",
       "      <td>634,196 students</td>\n",
       "    </tr>\n",
       "    <tr>\n",
       "      <th>4</th>\n",
       "      <td>Java Programming Masterclass covering Java 11 ...</td>\n",
       "      <td>Tim Buchalka, Tim Buchalka's Learn Programming...</td>\n",
       "      <td>4.5</td>\n",
       "      <td>171838 reviews</td>\n",
       "      <td>80.5 total hours</td>\n",
       "      <td>401 lectures</td>\n",
       "      <td>All Levels</td>\n",
       "      <td>Current price: E£349.99</td>\n",
       "      <td>Original price: E£849.99</td>\n",
       "      <td>727,934 students</td>\n",
       "    </tr>\n",
       "  </tbody>\n",
       "</table>\n",
       "</div>"
      ],
      "text/plain": [
       "                                         course_name  \\\n",
       "0  2022 Complete Python Bootcamp From Zero to Her...   \n",
       "1                    The Web Developer Bootcamp 2022   \n",
       "2         The Complete 2022 Web Development Bootcamp   \n",
       "3        Angular - The Complete Guide (2023 Edition)   \n",
       "4  Java Programming Masterclass covering Java 11 ...   \n",
       "\n",
       "                                          instructor  reviews_avg  \\\n",
       "0                                      Jose Portilla          4.6   \n",
       "1                                        Colt Steele          4.7   \n",
       "2                                      Dr. Angela Yu          4.7   \n",
       "3                           Maximilian Schwarzmüller          4.6   \n",
       "4  Tim Buchalka, Tim Buchalka's Learn Programming...          4.5   \n",
       "\n",
       "    reviews_count   course_duration lectures_count       level  \\\n",
       "0  440383 reviews    22 total hours   155 lectures  All Levels   \n",
       "1  248508 reviews    64 total hours   615 lectures  All Levels   \n",
       "2  234837 reviews  65.5 total hours   490 lectures  All Levels   \n",
       "3  174576 reviews  34.5 total hours   472 lectures  All Levels   \n",
       "4  171838 reviews  80.5 total hours   401 lectures  All Levels   \n",
       "\n",
       "      price_after_discount                  main_price      students_count  \n",
       "0  Current price: E£319.99  Original price: E£1,399.99  1,629,692 students  \n",
       "1  Current price: E£269.99  Original price: E£1,399.99    830,559 students  \n",
       "2  Current price: E£349.99  Original price: E£1,699.99    794,897 students  \n",
       "3  Current price: E£319.99  Original price: E£1,599.99    634,196 students  \n",
       "4  Current price: E£349.99    Original price: E£849.99    727,934 students  "
      ]
     },
     "execution_count": 280,
     "metadata": {},
     "output_type": "execute_result"
    }
   ],
   "source": [
    "df.head()"
   ]
  },
  {
   "cell_type": "markdown",
   "id": "e8e946f8",
   "metadata": {},
   "source": [
    "##### Lets move to ' review_count ' columnm"
   ]
  },
  {
   "cell_type": "code",
   "execution_count": 281,
   "id": "9140fcea",
   "metadata": {},
   "outputs": [
    {
     "data": {
      "text/plain": [
       "129 reviews     31\n",
       "138 reviews     27\n",
       "128 reviews     27\n",
       "139 reviews     27\n",
       "125 reviews     26\n",
       "                ..\n",
       "2488 reviews     1\n",
       "2495 reviews     1\n",
       "2500 reviews     1\n",
       "2501 reviews     1\n",
       "1395 reviews     1\n",
       "Name: reviews_count, Length: 1959, dtype: int64"
      ]
     },
     "execution_count": 281,
     "metadata": {},
     "output_type": "execute_result"
    }
   ],
   "source": [
    "df['reviews_count'].value_counts()"
   ]
  },
  {
   "cell_type": "code",
   "execution_count": 282,
   "id": "5b8ced86",
   "metadata": {},
   "outputs": [],
   "source": [
    "df['reviews_count'] = df['reviews_count'].str.replace('reviews','')"
   ]
  },
  {
   "cell_type": "code",
   "execution_count": 283,
   "id": "c00f9dd5",
   "metadata": {},
   "outputs": [
    {
     "data": {
      "text/plain": [
       "129      31\n",
       "138      27\n",
       "128      27\n",
       "139      27\n",
       "125      26\n",
       "         ..\n",
       "2488      1\n",
       "2495      1\n",
       "2500      1\n",
       "2501      1\n",
       "1395      1\n",
       "Name: reviews_count, Length: 1959, dtype: int64"
      ]
     },
     "execution_count": 283,
     "metadata": {},
     "output_type": "execute_result"
    }
   ],
   "source": [
    "df['reviews_count'].value_counts()"
   ]
  },
  {
   "cell_type": "markdown",
   "id": "2e6b7b71",
   "metadata": {},
   "source": [
    "##### convert the column to float or int datatype depending on the needs"
   ]
  },
  {
   "cell_type": "code",
   "execution_count": 284,
   "id": "230b9a9e",
   "metadata": {},
   "outputs": [],
   "source": [
    "df['reviews_count'] = df['reviews_count'].astype(float)"
   ]
  },
  {
   "cell_type": "markdown",
   "id": "3109f301",
   "metadata": {},
   "source": [
    "##### Check for null values in the column"
   ]
  },
  {
   "cell_type": "code",
   "execution_count": 285,
   "id": "65b0ab78",
   "metadata": {},
   "outputs": [
    {
     "data": {
      "text/plain": [
       "10"
      ]
     },
     "execution_count": 285,
     "metadata": {},
     "output_type": "execute_result"
    }
   ],
   "source": [
    "df.reviews_count.isna().sum()"
   ]
  },
  {
   "cell_type": "markdown",
   "id": "e8ad27f2",
   "metadata": {},
   "source": [
    "##### Plot histogram and boxplots for distribution and outlier detection"
   ]
  },
  {
   "cell_type": "code",
   "execution_count": 286,
   "id": "d85b98ec",
   "metadata": {},
   "outputs": [
    {
     "data": {
      "text/plain": [
       "<Axes: xlabel='reviews_count', ylabel='Count'>"
      ]
     },
     "execution_count": 286,
     "metadata": {},
     "output_type": "execute_result"
    },
    {
     "data": {
      "image/png": "[encoded data removed]",
      "text/plain": [
       "<Figure size 640x480 with 1 Axes>"
      ]
     },
     "metadata": {},
     "output_type": "display_data"
    }
   ],
   "source": [
    "sns.histplot(data=df['reviews_count'],kde=True)"
   ]
  },
  {
   "cell_type": "code",
   "execution_count": 287,
   "id": "c462c735",
   "metadata": {},
   "outputs": [
    {
     "data": {
      "text/plain": [
       "<Axes: >"
      ]
     },
     "execution_count": 287,
     "metadata": {},
     "output_type": "execute_result"
    },
    {
     "data": {
      "image/png": "[encoded data removed]",
      "text/plain": [
       "<Figure size 640x480 with 1 Axes>"
      ]
     },
     "metadata": {},
     "output_type": "display_data"
    }
   ],
   "source": [
    "sns.boxplot(data=df['reviews_count'])"
   ]
  },
  {
   "cell_type": "markdown",
   "id": "89bf617c",
   "metadata": {},
   "source": [
    "* There are no outliers present and the datapoints we see in the boxplot are nothing but true outliers\n",
    "popular courses have more reviews more students that are enrolled in the course hence higher count of review count "
   ]
  },
  {
   "cell_type": "code",
   "execution_count": 288,
   "id": "53ef0269",
   "metadata": {
    "scrolled": true
   },
   "outputs": [
    {
     "name": "stdout",
     "output_type": "stream",
     "text": [
      "4.4\n"
     ]
    }
   ],
   "source": [
    "reviews_count_median = df['reviews_count'].median()\n",
    "print(reviews_avg_median)"
   ]
  },
  {
   "cell_type": "markdown",
   "id": "cbd88d66",
   "metadata": {},
   "source": [
    "##### Replacing null values with median as distribution is skewed"
   ]
  },
  {
   "cell_type": "code",
   "execution_count": 289,
   "id": "62559810",
   "metadata": {},
   "outputs": [],
   "source": [
    "df['reviews_count'].fillna(reviews_count_median, inplace=True)"
   ]
  },
  {
   "cell_type": "code",
   "execution_count": 290,
   "id": "3b1dcda2",
   "metadata": {},
   "outputs": [
    {
     "data": {
      "text/plain": [
       "course_name              13\n",
       "instructor               10\n",
       "reviews_avg               0\n",
       "reviews_count             0\n",
       "course_duration          10\n",
       "lectures_count           10\n",
       "level                    10\n",
       "price_after_discount     10\n",
       "main_price              228\n",
       "students_count           13\n",
       "dtype: int64"
      ]
     },
     "execution_count": 290,
     "metadata": {},
     "output_type": "execute_result"
    }
   ],
   "source": [
    "df.isnull().sum()"
   ]
  },
  {
   "cell_type": "code",
   "execution_count": 291,
   "id": "771e518d",
   "metadata": {},
   "outputs": [
    {
     "name": "stdout",
     "output_type": "stream",
     "text": [
      "<class 'pandas.core.frame.DataFrame'>\n",
      "Int64Index: 5024 entries, 0 to 5026\n",
      "Data columns (total 10 columns):\n",
      " #   Column                Non-Null Count  Dtype  \n",
      "---  ------                --------------  -----  \n",
      " 0   course_name           5011 non-null   object \n",
      " 1   instructor            5014 non-null   object \n",
      " 2   reviews_avg           5024 non-null   float64\n",
      " 3   reviews_count         5024 non-null   float64\n",
      " 4   course_duration       5014 non-null   object \n",
      " 5   lectures_count        5014 non-null   object \n",
      " 6   level                 5014 non-null   object \n",
      " 7   price_after_discount  5014 non-null   object \n",
      " 8   main_price            4796 non-null   object \n",
      " 9   students_count        5011 non-null   object \n",
      "dtypes: float64(2), object(8)\n",
      "memory usage: 560.8+ KB\n"
     ]
    }
   ],
   "source": [
    "df.info()"
   ]
  },
  {
   "cell_type": "markdown",
   "id": "f52db2a9",
   "metadata": {},
   "source": [
    "### Lets start with \" price_after_discount  \" column"
   ]
  },
  {
   "cell_type": "markdown",
   "id": "3b962f89",
   "metadata": {},
   "source": [
    "######  check the type of values in the column using value_counts"
   ]
  },
  {
   "cell_type": "code",
   "execution_count": 292,
   "id": "7fc4efbf",
   "metadata": {
    "scrolled": true
   },
   "outputs": [
    {
     "data": {
      "text/plain": [
       "Current price: E£269.99       2150\n",
       "Current price: E£229.99       1323\n",
       "Current price: E£199.99        838\n",
       "Current price: E£319.99        517\n",
       "Current price: E£349.99         51\n",
       "Current price: E£479.99         25\n",
       "Current price: E£1,199.99       13\n",
       "Current price: E£719.99         11\n",
       "Current price: E£1,299.99        9\n",
       "Current price: E£619.99          7\n",
       "Current price: E£1,399.99        7\n",
       "Current price: E£419.99          6\n",
       "Original price: E£229.99         6\n",
       "Current price: E£449.99          6\n",
       "Current price: E£779.99          5\n",
       "Current price: E£799.99          5\n",
       "Current price: E£1,699.99        5\n",
       "Current price: E£1,599.99        5\n",
       "Original price: E£319.99         4\n",
       "Current price: E£679.99          4\n",
       "Current price: E£519.99          3\n",
       "Current price: E£849.99          3\n",
       "Current price: E£999.99          2\n",
       "Current price: E£749.99          2\n",
       "Current price: E£529.99          2\n",
       "Current price: E£579.99          2\n",
       "Original price: E£1,199.99       1\n",
       "Current price: E£649.99          1\n",
       "Current price: E£599.99          1\n",
       "Name: price_after_discount, dtype: int64"
      ]
     },
     "execution_count": 292,
     "metadata": {},
     "output_type": "execute_result"
    }
   ],
   "source": [
    "df['price_after_discount'].value_counts()"
   ]
  },
  {
   "cell_type": "markdown",
   "id": "ce15abdc",
   "metadata": {},
   "source": [
    "##### replace the common occuring values wioth suitable values using str.replace()"
   ]
  },
  {
   "cell_type": "code",
   "execution_count": 293,
   "id": "0802cc9b",
   "metadata": {},
   "outputs": [],
   "source": [
    "df['price_after_discount'] = df['price_after_discount'].str.replace('Current price: E£','')"
   ]
  },
  {
   "cell_type": "code",
   "execution_count": 294,
   "id": "c9dc6a5d",
   "metadata": {},
   "outputs": [],
   "source": [
    "df['price_after_discount'] = df['price_after_discount'].str.replace('Original price: E£','')"
   ]
  },
  {
   "cell_type": "code",
   "execution_count": 295,
   "id": "ccf822f8",
   "metadata": {},
   "outputs": [],
   "source": [
    "df['price_after_discount'] = df['price_after_discount'].str.replace(',','')"
   ]
  },
  {
   "cell_type": "markdown",
   "id": "521c198b",
   "metadata": {},
   "source": [
    "##### Converting the object type to float"
   ]
  },
  {
   "cell_type": "code",
   "execution_count": 296,
   "id": "15b090d9",
   "metadata": {},
   "outputs": [],
   "source": [
    "df['price_after_discount'] = df['price_after_discount'].astype(float)"
   ]
  },
  {
   "cell_type": "markdown",
   "id": "20601ce4",
   "metadata": {
    "scrolled": true
   },
   "source": [
    "##### Checking for null values in the column"
   ]
  },
  {
   "cell_type": "code",
   "execution_count": 297,
   "id": "731d994b",
   "metadata": {},
   "outputs": [
    {
     "data": {
      "text/plain": [
       "10"
      ]
     },
     "execution_count": 297,
     "metadata": {},
     "output_type": "execute_result"
    }
   ],
   "source": [
    "df['price_after_discount'].isna().sum()"
   ]
  },
  {
   "cell_type": "markdown",
   "id": "aaa4e473",
   "metadata": {},
   "source": [
    "##### Plotting the histogram and boxplot for distribution and outlier detection"
   ]
  },
  {
   "cell_type": "code",
   "execution_count": 298,
   "id": "733d9712",
   "metadata": {},
   "outputs": [
    {
     "data": {
      "text/plain": [
       "<Axes: xlabel='price_after_discount', ylabel='Count'>"
      ]
     },
     "execution_count": 298,
     "metadata": {},
     "output_type": "execute_result"
    },
    {
     "data": {
      "image/png": "[encoded data removed]",
      "text/plain": [
       "<Figure size 640x480 with 1 Axes>"
      ]
     },
     "metadata": {},
     "output_type": "display_data"
    }
   ],
   "source": [
    "sns.histplot(df['price_after_discount'],kde=True)"
   ]
  },
  {
   "cell_type": "code",
   "execution_count": 299,
   "id": "9ded8ad6",
   "metadata": {},
   "outputs": [
    {
     "data": {
      "text/plain": [
       "<Axes: >"
      ]
     },
     "execution_count": 299,
     "metadata": {},
     "output_type": "execute_result"
    },
    {
     "data": {
      "image/png": "[encoded data removed]",
      "text/plain": [
       "<Figure size 640x480 with 1 Axes>"
      ]
     },
     "metadata": {},
     "output_type": "display_data"
    }
   ],
   "source": [
    "sns.boxplot(df['price_after_discount'])"
   ]
  },
  {
   "cell_type": "markdown",
   "id": "de8b4b9b",
   "metadata": {},
   "source": [
    "##### As the distribution is not normal hence we are going to use median"
   ]
  },
  {
   "cell_type": "code",
   "execution_count": 300,
   "id": "5498c775",
   "metadata": {},
   "outputs": [
    {
     "name": "stdout",
     "output_type": "stream",
     "text": [
      "269.99\n"
     ]
    }
   ],
   "source": [
    "price_after_discount_median = df['price_after_discount'].median()\n",
    "print(price_after_discount_median)"
   ]
  },
  {
   "cell_type": "code",
   "execution_count": 301,
   "id": "dbcb7ab0",
   "metadata": {},
   "outputs": [],
   "source": [
    "df['price_after_discount'].fillna(price_after_discount_median, inplace=True)"
   ]
  },
  {
   "cell_type": "code",
   "execution_count": 302,
   "id": "24f65802",
   "metadata": {},
   "outputs": [
    {
     "name": "stdout",
     "output_type": "stream",
     "text": [
      "<class 'pandas.core.frame.DataFrame'>\n",
      "Int64Index: 5024 entries, 0 to 5026\n",
      "Data columns (total 10 columns):\n",
      " #   Column                Non-Null Count  Dtype  \n",
      "---  ------                --------------  -----  \n",
      " 0   course_name           5011 non-null   object \n",
      " 1   instructor            5014 non-null   object \n",
      " 2   reviews_avg           5024 non-null   float64\n",
      " 3   reviews_count         5024 non-null   float64\n",
      " 4   course_duration       5014 non-null   object \n",
      " 5   lectures_count        5014 non-null   object \n",
      " 6   level                 5014 non-null   object \n",
      " 7   price_after_discount  5024 non-null   float64\n",
      " 8   main_price            4796 non-null   object \n",
      " 9   students_count        5011 non-null   object \n",
      "dtypes: float64(3), object(7)\n",
      "memory usage: 560.8+ KB\n"
     ]
    }
   ],
   "source": [
    "df.info()"
   ]
  },
  {
   "cell_type": "markdown",
   "id": "b58dc751",
   "metadata": {},
   "source": [
    "### Lets start with \" main_price \" column"
   ]
  },
  {
   "cell_type": "markdown",
   "id": "2e7ab993",
   "metadata": {},
   "source": [
    "##### check the type of values in the column using value_counts"
   ]
  },
  {
   "cell_type": "code",
   "execution_count": 303,
   "id": "f048ba5e",
   "metadata": {},
   "outputs": [
    {
     "data": {
      "text/plain": [
       "Original price: E£229.99      838\n",
       "Original price: E£1,299.99    532\n",
       "Original price: E£719.99      506\n",
       "Original price: E£1,199.99    451\n",
       "Original price: E£1,399.99    394\n",
       "Original price: E£479.99      270\n",
       "Original price: E£319.99      198\n",
       "Original price: E£849.99      172\n",
       "Original price: E£269.99      142\n",
       "Original price: E£419.99      123\n",
       "Original price: E£1,599.99    115\n",
       "Original price: E£679.99       92\n",
       "Original price: E£349.99       84\n",
       "Original price: E£779.99       84\n",
       "Original price: E£529.99       83\n",
       "Original price: E£749.99       79\n",
       "Original price: E£649.99       69\n",
       "Original price: E£799.99       66\n",
       "Original price: E£599.99       66\n",
       "Original price: E£619.99       63\n",
       "Original price: E£819.99       61\n",
       "Original price: E£629.99       49\n",
       "Original price: E£579.99       45\n",
       "Original price: E£729.99       43\n",
       "Original price: E£449.99       42\n",
       "Original price: E£999.99       41\n",
       "Original price: E£1,699.99     31\n",
       "Original price: E£519.99       31\n",
       "Original price: E£549.99       26\n",
       "Name: main_price, dtype: int64"
      ]
     },
     "execution_count": 303,
     "metadata": {},
     "output_type": "execute_result"
    }
   ],
   "source": [
    "df['main_price'].value_counts()"
   ]
  },
  {
   "cell_type": "markdown",
   "id": "a9ec33cc",
   "metadata": {},
   "source": [
    "##### replace the common occuring values wioth suitable values using str.replace()"
   ]
  },
  {
   "cell_type": "code",
   "execution_count": 304,
   "id": "312cf7fe",
   "metadata": {},
   "outputs": [],
   "source": [
    "df['main_price']= df['main_price'].str.replace('Original price: E£','')"
   ]
  },
  {
   "cell_type": "code",
   "execution_count": 305,
   "id": "723357ae",
   "metadata": {},
   "outputs": [],
   "source": [
    "df['main_price']= df['main_price'].str.replace(',','')"
   ]
  },
  {
   "cell_type": "code",
   "execution_count": 306,
   "id": "34509153",
   "metadata": {
    "scrolled": true
   },
   "outputs": [
    {
     "data": {
      "text/plain": [
       "229.99     838\n",
       "1299.99    532\n",
       "719.99     506\n",
       "1199.99    451\n",
       "1399.99    394\n",
       "479.99     270\n",
       "319.99     198\n",
       "849.99     172\n",
       "269.99     142\n",
       "419.99     123\n",
       "1599.99    115\n",
       "679.99      92\n",
       "349.99      84\n",
       "779.99      84\n",
       "529.99      83\n",
       "749.99      79\n",
       "649.99      69\n",
       "799.99      66\n",
       "599.99      66\n",
       "619.99      63\n",
       "819.99      61\n",
       "629.99      49\n",
       "579.99      45\n",
       "729.99      43\n",
       "449.99      42\n",
       "999.99      41\n",
       "1699.99     31\n",
       "519.99      31\n",
       "549.99      26\n",
       "Name: main_price, dtype: int64"
      ]
     },
     "execution_count": 306,
     "metadata": {},
     "output_type": "execute_result"
    }
   ],
   "source": [
    "df['main_price'].value_counts()"
   ]
  },
  {
   "cell_type": "markdown",
   "id": "00b4b5b8",
   "metadata": {},
   "source": [
    "##### Changing the datatype of ' main_price ' column"
   ]
  },
  {
   "cell_type": "code",
   "execution_count": 307,
   "id": "f76280d1",
   "metadata": {},
   "outputs": [],
   "source": [
    "df['main_price'] = df['main_price'].astype(float)"
   ]
  },
  {
   "cell_type": "markdown",
   "id": "c68bf5a6",
   "metadata": {},
   "source": [
    "##### Checking for null values "
   ]
  },
  {
   "cell_type": "code",
   "execution_count": 308,
   "id": "360ac2c3",
   "metadata": {},
   "outputs": [
    {
     "data": {
      "text/plain": [
       "228"
      ]
     },
     "execution_count": 308,
     "metadata": {},
     "output_type": "execute_result"
    }
   ],
   "source": [
    "df['main_price'].isna().sum()"
   ]
  },
  {
   "cell_type": "markdown",
   "id": "f89f7022",
   "metadata": {},
   "source": [
    "* There are 228 null values "
   ]
  },
  {
   "cell_type": "markdown",
   "id": "88acd86a",
   "metadata": {},
   "source": [
    "##### plotting the histogram and boxplot for distribution and outlier detection"
   ]
  },
  {
   "cell_type": "code",
   "execution_count": 309,
   "id": "2bfd1caa",
   "metadata": {},
   "outputs": [
    {
     "data": {
      "text/plain": [
       "<Axes: xlabel='main_price', ylabel='Count'>"
      ]
     },
     "execution_count": 309,
     "metadata": {},
     "output_type": "execute_result"
    },
    {
     "data": {
      "image/png": "[encoded data removed]",
      "text/plain": [
       "<Figure size 640x480 with 1 Axes>"
      ]
     },
     "metadata": {},
     "output_type": "display_data"
    }
   ],
   "source": [
    "sns.histplot(df['main_price'],kde=True)"
   ]
  },
  {
   "cell_type": "code",
   "execution_count": 310,
   "id": "c244c2dc",
   "metadata": {},
   "outputs": [
    {
     "data": {
      "text/plain": [
       "<Axes: >"
      ]
     },
     "execution_count": 310,
     "metadata": {},
     "output_type": "execute_result"
    },
    {
     "data": {
      "image/png": "[encoded data removed]",
      "text/plain": [
       "<Figure size 640x480 with 1 Axes>"
      ]
     },
     "metadata": {},
     "output_type": "display_data"
    }
   ],
   "source": [
    "sns.boxplot(df['main_price'])"
   ]
  },
  {
   "cell_type": "markdown",
   "id": "919d5c43",
   "metadata": {},
   "source": [
    "* There are no outlier true or otherwise hence we will use mean"
   ]
  },
  {
   "cell_type": "markdown",
   "id": "67336807",
   "metadata": {},
   "source": [
    "##### Replacing null values with appropriate measure of central tendency "
   ]
  },
  {
   "cell_type": "code",
   "execution_count": 311,
   "id": "7a9fcea0",
   "metadata": {},
   "outputs": [
    {
     "data": {
      "text/plain": [
       "765.8469641367806"
      ]
     },
     "execution_count": 311,
     "metadata": {},
     "output_type": "execute_result"
    }
   ],
   "source": [
    "main_price_mean = df['main_price'].mean()\n",
    "main_price_mean"
   ]
  },
  {
   "cell_type": "code",
   "execution_count": 312,
   "id": "0d03538c",
   "metadata": {},
   "outputs": [],
   "source": [
    "df['main_price'].fillna(main_price_mean,inplace=True)"
   ]
  },
  {
   "cell_type": "code",
   "execution_count": 313,
   "id": "2c1f3804",
   "metadata": {},
   "outputs": [
    {
     "name": "stdout",
     "output_type": "stream",
     "text": [
      "<class 'pandas.core.frame.DataFrame'>\n",
      "Int64Index: 5024 entries, 0 to 5026\n",
      "Data columns (total 10 columns):\n",
      " #   Column                Non-Null Count  Dtype  \n",
      "---  ------                --------------  -----  \n",
      " 0   course_name           5011 non-null   object \n",
      " 1   instructor            5014 non-null   object \n",
      " 2   reviews_avg           5024 non-null   float64\n",
      " 3   reviews_count         5024 non-null   float64\n",
      " 4   course_duration       5014 non-null   object \n",
      " 5   lectures_count        5014 non-null   object \n",
      " 6   level                 5014 non-null   object \n",
      " 7   price_after_discount  5024 non-null   float64\n",
      " 8   main_price            5024 non-null   float64\n",
      " 9   students_count        5011 non-null   object \n",
      "dtypes: float64(4), object(6)\n",
      "memory usage: 560.8+ KB\n"
     ]
    }
   ],
   "source": [
    "df.info()"
   ]
  },
  {
   "cell_type": "code",
   "execution_count": 314,
   "id": "56c9b48f",
   "metadata": {},
   "outputs": [
    {
     "data": {
      "text/plain": [
       "course_name             13\n",
       "instructor              10\n",
       "reviews_avg              0\n",
       "reviews_count            0\n",
       "course_duration         10\n",
       "lectures_count          10\n",
       "level                   10\n",
       "price_after_discount     0\n",
       "main_price               0\n",
       "students_count          13\n",
       "dtype: int64"
      ]
     },
     "execution_count": 314,
     "metadata": {},
     "output_type": "execute_result"
    }
   ],
   "source": [
    "df.isnull().sum()"
   ]
  },
  {
   "cell_type": "markdown",
   "id": "517597d5",
   "metadata": {},
   "source": [
    "#### Drop the null values in ' course_name ' and ' instructor ' column as they have unique values and i cannot find a way other than replace them will ' unknown ' hence dropping those columns"
   ]
  },
  {
   "cell_type": "code",
   "execution_count": 315,
   "id": "9dced153",
   "metadata": {},
   "outputs": [],
   "source": [
    "df = df.dropna(subset=['course_name', 'instructor'])"
   ]
  },
  {
   "cell_type": "code",
   "execution_count": 316,
   "id": "bf922734",
   "metadata": {},
   "outputs": [
    {
     "data": {
      "text/plain": [
       "course_name             0\n",
       "instructor              0\n",
       "reviews_avg             0\n",
       "reviews_count           0\n",
       "course_duration         0\n",
       "lectures_count          0\n",
       "level                   0\n",
       "price_after_discount    0\n",
       "main_price              0\n",
       "students_count          0\n",
       "dtype: int64"
      ]
     },
     "execution_count": 316,
     "metadata": {},
     "output_type": "execute_result"
    }
   ],
   "source": [
    "df.isnull().sum()"
   ]
  },
  {
   "cell_type": "code",
   "execution_count": 317,
   "id": "6c90a35b",
   "metadata": {},
   "outputs": [
    {
     "name": "stdout",
     "output_type": "stream",
     "text": [
      "<class 'pandas.core.frame.DataFrame'>\n",
      "Int64Index: 5011 entries, 0 to 5025\n",
      "Data columns (total 10 columns):\n",
      " #   Column                Non-Null Count  Dtype  \n",
      "---  ------                --------------  -----  \n",
      " 0   course_name           5011 non-null   object \n",
      " 1   instructor            5011 non-null   object \n",
      " 2   reviews_avg           5011 non-null   float64\n",
      " 3   reviews_count         5011 non-null   float64\n",
      " 4   course_duration       5011 non-null   object \n",
      " 5   lectures_count        5011 non-null   object \n",
      " 6   level                 5011 non-null   object \n",
      " 7   price_after_discount  5011 non-null   float64\n",
      " 8   main_price            5011 non-null   float64\n",
      " 9   students_count        5011 non-null   object \n",
      "dtypes: float64(4), object(6)\n",
      "memory usage: 430.6+ KB\n"
     ]
    }
   ],
   "source": [
    "df.info()"
   ]
  },
  {
   "cell_type": "markdown",
   "id": "6b5e780a",
   "metadata": {},
   "source": [
    "## Conclusion\n",
    "* we used the described steps to transform columns which include 'reviews_avg', 'reviews_count','price_after_discount','main_price'\n",
    "* convertde columns to different datatypes \n",
    "* dropped extra characters from the columns for a more clear and concise data\n",
    "* drop specific rows to get the desired values in the columns\n",
    "* plotted histograms and boxplot for distribution and outlier detection \n",
    "* replaced null values with measure of central tendency based on the above plots \n"
   ]
  },
  {
   "cell_type": "code",
   "execution_count": 253,
   "id": "14706971",
   "metadata": {},
   "outputs": [],
   "source": [
    "df.to_csv('cleaned_udemy.csv')"
   ]
  },
  {
   "cell_type": "code",
   "execution_count": null,
   "id": "3cc6c533",
   "metadata": {},
   "outputs": [],
   "source": []
  }
 ],
 "metadata": {
  "kernelspec": {
   "display_name": "Python 3 (ipykernel)",
   "language": "python",
   "name": "python3"
  },
  "language_info": {
   "codemirror_mode": {
    "name": "ipython",
    "version": 3
   },
   "file_extension": ".py",
   "mimetype": "text/x-python",
   "name": "python",
   "nbconvert_exporter": "python",
   "pygments_lexer": "ipython3",
   "version": "3.11.4"
  }
 },
 "nbformat": 4,
 "nbformat_minor": 5
}
